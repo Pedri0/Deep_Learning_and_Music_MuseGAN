{
 "cells": [
  {
   "cell_type": "code",
   "execution_count": 1,
   "metadata": {},
   "outputs": [],
   "source": [
    "import numpy as np\n",
    "import music21\n",
    "from music21 import *\n",
    "import pandas as pd\n",
    "import os"
   ]
  },
  {
   "cell_type": "markdown",
   "metadata": {},
   "source": [
    "# Functions to get Chords and Durations 'one hot encoded'\n",
    "And save as csv files"
   ]
  },
  {
   "cell_type": "code",
   "execution_count": 19,
   "metadata": {},
   "outputs": [],
   "source": [
    "def getAllNotes(instrument):\n",
    "    #instrument = instument\n",
    "    originalScores = []\n",
    "    for entry in os.listdir():\n",
    "        if os.path.isdir(os.path.join('', entry)):\n",
    "            if entry == '.ipynb_checkpoints' or  '__pycache__' or 'run' or 'sampled' or 'intentos':\n",
    "                continue\n",
    "            score = converter.parse(entry+'/'+instrument+'.mid')\n",
    "            originalScores.append(score)\n",
    "    \n",
    "    originalScores = [song.chordify() for song in originalScores]\n",
    "    originalChords = [[] for _ in originalScores]\n",
    "    originalDurations = [[] for _ in originalScores]\n",
    "    originalKeys = []\n",
    "    for i, song in enumerate(originalScores):\n",
    "        originalKeys.append(str(song.analyze('key')))\n",
    "        print('Analysing song {}'.format(str(i)))\n",
    "        for element in song:\n",
    "            if isinstance(element, note.Note):\n",
    "                originalChords[i].append(element.pitch)\n",
    "                originalDurations[i].append(element.duration.quarterLength)\n",
    "            elif isinstance(element, chord.Chord):\n",
    "                originalChords[i].append('.'.join(str(n) for n in element.pitches))\n",
    "                originalDurations[i].append(element.duration.quarterLength)\n",
    "            elif isinstance(element, note.Rest):\n",
    "                originalChords[i].append('rest')\n",
    "                originalDurations[i].append(element.duration.quarterLength)\n",
    "        \n",
    "    cMajorChords = [c for c in originalChords]\n",
    "    cMajorDurations = [c for c in originalDurations]\n",
    "    \n",
    "    # Map unique chords to integers\n",
    "    uniqueChords = np.unique([i for s in originalChords for i in s])\n",
    "    chordToInt = dict(zip(uniqueChords, list(range(1, len(uniqueChords)+1))))\n",
    "    # Map unique durations to integers\n",
    "    uniqueDurations = np.unique([i for s in originalDurations for i in s])\n",
    "    durationToInt = dict(zip(uniqueDurations, list(range(1, len(uniqueDurations)+1))))\n",
    "    # Print number of unique notes and chords\n",
    "    print('There are {} unique Chord for every song'.format(len(uniqueChords)))\n",
    "    # Print number of unique durations\n",
    "    print('There are {} unique durations for every song'.format(len(uniqueDurations)))\n",
    "    \n",
    "    #intToChord = {i: c for c, i in chordToInt.items()}\n",
    "    #intToDuration = {i: c for c, i in durationToInt.items()}\n",
    "    \n",
    "    return chordToInt, durationToInt"
   ]
  },
  {
   "cell_type": "code",
   "execution_count": 118,
   "metadata": {},
   "outputs": [],
   "source": [
    "def saveOneHot(chordToInt, durationToInt,instrument):\n",
    "    chords = pd.DataFrame(chordToInt.items())\n",
    "    durations = pd.DataFrame(durationToInt.items())\n",
    "    chords.to_csv(instrument+'ChordHot.csv', index=False, header=False)\n",
    "    durations.to_csv(instrument+'DurationHot.csv', index=False, header=False)"
   ]
  },
  {
   "cell_type": "code",
   "execution_count": 32,
   "metadata": {},
   "outputs": [],
   "source": [
    "def toArray(list_):\n",
    "    newList = []\n",
    "    for i in range(len(list_)):\n",
    "        newList.append(list_[i][0])\n",
    "    return np.array(newList)"
   ]
  },
  {
   "cell_type": "code",
   "execution_count": 40,
   "metadata": {},
   "outputs": [],
   "source": [
    "def getNotesSong(chordToInt, durationToInt, instrument):\n",
    "    for entry in os.listdir():\n",
    "        if os.path.isdir(os.path.join('', entry)):\n",
    "            if entry == '.ipynb_checkpoints' or  '__pycache__' or 'run' or 'sampled' or 'intentos':\n",
    "                continue\n",
    "            originalScores = []\n",
    "            score = converter.parse(entry+'/'+instrument+'.mid')\n",
    "            originalScores.append(score)\n",
    "            originalScores.append(score)\n",
    "            originalScores = [song.chordify() for song in originalScores]\n",
    "            originalChords = [[] for _ in originalScores]\n",
    "            originalDurations = [[] for _ in originalScores]\n",
    "            originalKeys = []\n",
    "            # Extract notes, chords, durations, and keys\n",
    "            for i, song in enumerate(originalScores):\n",
    "                originalKeys.append(str(song.analyze('key')))\n",
    "                for element in song:\n",
    "                    if isinstance(element, note.Note):\n",
    "                        originalChords[i].append(element.pitch)\n",
    "                        originalDurations[i].append(element.duration.quarterLength)\n",
    "                    elif isinstance(element, chord.Chord):\n",
    "                        originalChords[i].append('.'.join(str(n) for n in element.pitches))\n",
    "                        originalDurations[i].append(element.duration.quarterLength)\n",
    "                    elif isinstance(element, note.Rest):\n",
    "                        originalChords[i].append('rest')\n",
    "                        originalDurations[i].append(element.duration.quarterLength)\n",
    "                        \n",
    "            cMajorChords = [c for (c) in originalChords]\n",
    "            cMajorDurations = [c for (c) in originalDurations]\n",
    "            # Define sequence length\n",
    "            sequenceLength = 1\n",
    "\n",
    "            # Define empty arrays for train data\n",
    "            trainChords = []\n",
    "            trainDurations = []\n",
    "\n",
    "            # Construct training sequences for chords and durations\n",
    "            for s in range(len(cMajorChords)):\n",
    "                chordList = [chordToInt[c] for c in cMajorChords[s]]\n",
    "                durationList = [durationToInt[d] for d in cMajorDurations[s]]\n",
    "                for i in range(len(chordList) - sequenceLength):\n",
    "                    trainChords.append(chordList[i:i+sequenceLength])\n",
    "                    trainDurations.append(durationList[i:i+sequenceLength])\n",
    "            #print(trainChords)        \n",
    "            chords = toArray(trainChords)\n",
    "            durations = toArray(trainDurations)\n",
    "            dataframe = pd.DataFrame({'Pitch':chords, 'Durations': durations})\n",
    "            dataframe.to_csv(entry+'/'+instrument+'Solo.csv', index=False)\n",
    "            \n",
    "            a = []\n",
    "            for i in range(chords.shape[0]):\n",
    "                pitch = dataframe['Pitch'][i]\n",
    "                for j in range(dataframe['Durations'][i]):\n",
    "                    a.append(pitch)\n",
    "                    \n",
    "            a = np.array(a)\n",
    "            win = pd.DataFrame(a)\n",
    "            win.to_csv(entry+'/'+instrument+'Multiple.csv', index=False, header=False)"
   ]
  },
  {
   "cell_type": "markdown",
   "metadata": {},
   "source": [
    "# Guitar 1"
   ]
  },
  {
   "cell_type": "code",
   "execution_count": 122,
   "metadata": {},
   "outputs": [
    {
     "name": "stdout",
     "output_type": "stream",
     "text": [
      "Analysing song 0\n",
      "Analysing song 1\n",
      "Analysing song 2\n",
      "Analysing song 3\n",
      "Analysing song 4\n",
      "Analysing song 5\n",
      "Analysing song 6\n",
      "Analysing song 7\n",
      "Analysing song 8\n",
      "There are 185 unique Chord for every song\n",
      "There are 38 unique durations for every song\n"
     ]
    }
   ],
   "source": [
    "chords, durations = getAllNotes('Guitar1')\n",
    "saveOneHot(chords, durations, 'Guitar1')\n",
    "getNotesSong(chords, durations, 'Guitar1')"
   ]
  },
  {
   "cell_type": "markdown",
   "metadata": {},
   "source": [
    "# Guitar 2"
   ]
  },
  {
   "cell_type": "code",
   "execution_count": 123,
   "metadata": {},
   "outputs": [
    {
     "name": "stdout",
     "output_type": "stream",
     "text": [
      "Analysing song 0\n",
      "Analysing song 1\n",
      "Analysing song 2\n",
      "Analysing song 3\n",
      "Analysing song 4\n",
      "Analysing song 5\n",
      "Analysing song 6\n",
      "Analysing song 7\n",
      "Analysing song 8\n",
      "There are 206 unique Chord for every song\n",
      "There are 45 unique durations for every song\n"
     ]
    }
   ],
   "source": [
    "chords, durations = getAllNotes('Guitar2')\n",
    "saveOneHot(chords, durations, 'Guitar2')\n",
    "getNotesSong(chords, durations, 'Guitar2')"
   ]
  },
  {
   "cell_type": "markdown",
   "metadata": {},
   "source": [
    "# Bass"
   ]
  },
  {
   "cell_type": "code",
   "execution_count": 124,
   "metadata": {},
   "outputs": [
    {
     "name": "stdout",
     "output_type": "stream",
     "text": [
      "Analysing song 0\n",
      "Analysing song 1\n",
      "Analysing song 2\n",
      "Analysing song 3\n",
      "Analysing song 4\n",
      "Analysing song 5\n",
      "Analysing song 6\n",
      "Analysing song 7\n",
      "Analysing song 8\n",
      "There are 30 unique Chord for every song\n",
      "There are 35 unique durations for every song\n"
     ]
    }
   ],
   "source": [
    "chords, durations = getAllNotes('Bass')\n",
    "saveOneHot(chords, durations, 'Bass')\n",
    "getNotesSong(chords, durations, 'Bass')"
   ]
  },
  {
   "cell_type": "markdown",
   "metadata": {},
   "source": [
    "# Drums"
   ]
  },
  {
   "cell_type": "code",
   "execution_count": 125,
   "metadata": {},
   "outputs": [
    {
     "name": "stdout",
     "output_type": "stream",
     "text": [
      "Analysing song 0\n",
      "Analysing song 1\n",
      "Analysing song 2\n",
      "Analysing song 3\n",
      "Analysing song 4\n",
      "Analysing song 5\n",
      "Analysing song 6\n",
      "Analysing song 7\n",
      "Analysing song 8\n",
      "There are 172 unique Chord for every song\n",
      "There are 29 unique durations for every song\n"
     ]
    }
   ],
   "source": [
    "chords, durations = getAllNotes('Drums')\n",
    "saveOneHot(chords, durations, 'Drums')\n",
    "getNotesSong(chords, durations, 'Drums')"
   ]
  },
  {
   "cell_type": "markdown",
   "metadata": {},
   "source": [
    "# Load each csv file and Preprocess it"
   ]
  },
  {
   "cell_type": "code",
   "execution_count": 63,
   "metadata": {},
   "outputs": [],
   "source": [
    "def getMinimumShapeCsv():\n",
    "    auxList = []\n",
    "    for entry in os.listdir():\n",
    "        if os.path.isdir(os.path.join('', entry)):\n",
    "            if entry == '.ipynb_checkpoints' or  '__pycache__' or 'run' or 'sampled' or 'intentos':\n",
    "                continue\n",
    "            csv1 = pd.read_csv(entry+'/Guitar1Multiple.csv', header=None)\n",
    "            csv2 = pd.read_csv(entry+'/Guitar2Multiple.csv', header=None)\n",
    "            csv3 = pd.read_csv(entry+'/BassMultiple.csv', header=None)\n",
    "            csv4 = pd.read_csv(entry+'/DrumsMultiple.csv', header=None)\n",
    "            auxList.append(csv1.shape[0])\n",
    "            auxList.append(csv2.shape[0])\n",
    "            auxList.append(csv3.shape[0])\n",
    "            auxList.append(csv4.shape[0])\n",
    "    return min(auxList)"
   ]
  },
  {
   "cell_type": "code",
   "execution_count": 126,
   "metadata": {},
   "outputs": [
    {
     "name": "stdout",
     "output_type": "stream",
     "text": [
      "10800\n"
     ]
    }
   ],
   "source": [
    "minimum = getMinimumShapeCsv()\n",
    "minimum = minimum - 4\n",
    "print(minimum)"
   ]
  },
  {
   "cell_type": "code",
   "execution_count": 70,
   "metadata": {},
   "outputs": [],
   "source": [
    "def cutCsvandStore(minimum):\n",
    "    for entry in os.listdir():\n",
    "        if os.path.isdir(os.path.join('', entry)):\n",
    "            if entry == '.ipynb_checkpoints' or  '__pycache__' or 'run' or 'sampled' or 'intentos':\n",
    "                continue\n",
    "            csv1 = pd.read_csv(entry+'/Guitar1Multiple.csv', header=None)\n",
    "            csv1 = csv1[:minimum]\n",
    "            csv1.to_csv(entry+'/Guitar1Cut.csv', index=False, header=False)\n",
    "            csv2 = pd.read_csv(entry+'/Guitar2Multiple.csv', header=None)\n",
    "            csv2 = csv2[:minimum]\n",
    "            csv2.to_csv(entry+'/Guitar2Cut.csv', index=False, header=False)\n",
    "            csv3 = pd.read_csv(entry+'/BassMultiple.csv', header=None)\n",
    "            csv3 = csv3[:minimum]\n",
    "            csv3.to_csv(entry+'/BassCut.csv', index=False, header=False)\n",
    "            csv4 = pd.read_csv(entry+'/DrumsMultiple.csv', header=None)\n",
    "            csv4 = csv4[:minimum]\n",
    "            csv4.to_csv(entry+'/DrumsCut.csv', index=False, header=False)"
   ]
  },
  {
   "cell_type": "code",
   "execution_count": 127,
   "metadata": {},
   "outputs": [],
   "source": [
    "cutCsvandStore(minimum)"
   ]
  },
  {
   "cell_type": "markdown",
   "metadata": {},
   "source": [
    "# Do the training Data"
   ]
  },
  {
   "cell_type": "code",
   "execution_count": 158,
   "metadata": {},
   "outputs": [],
   "source": [
    "def joinandConcatAll():\n",
    "    auxList = []\n",
    "    for entry in os.listdir():\n",
    "        if os.path.isdir(os.path.join('', entry)):\n",
    "            if entry == '.ipynb_checkpoints' or  '__pycache__' or 'run' or 'sampled' or 'intentos':\n",
    "                continue\n",
    "            csv1 = pd.read_csv(entry+'/Guitar1Cut.csv', header=None)\n",
    "            csv1.columns=['Guitar1']\n",
    "            csv2 = pd.read_csv(entry+'/Guitar2Cut.csv', header=None)\n",
    "            csv2.columns=['Guitar2']\n",
    "            csv3 = pd.read_csv(entry+'/BassCut.csv', header=None)\n",
    "            csv3.columns=['Bass']\n",
    "            csv4 = pd.read_csv(entry+'/DrumsCut.csv', header=None)\n",
    "            csv4.columns=['Drums']\n",
    "            aux1 = pd.merge(csv1, csv2, right_index=True, left_index=True)\n",
    "            aux2 = pd.merge(csv3, csv4, right_index=True, left_index=True)\n",
    "            df = pd.merge(aux1, aux2, right_index=True, left_index=True) \n",
    "            auxList.append(df)\n",
    "    concat = pd.concat(auxList)\n",
    "    return concat"
   ]
  },
  {
   "cell_type": "code",
   "execution_count": 211,
   "metadata": {},
   "outputs": [],
   "source": [
    "songs = joinandConcatAll()"
   ]
  },
  {
   "cell_type": "code",
   "execution_count": 213,
   "metadata": {},
   "outputs": [],
   "source": [
    "s = songs.to_numpy()"
   ]
  },
  {
   "cell_type": "code",
   "execution_count": 214,
   "metadata": {},
   "outputs": [
    {
     "data": {
      "text/plain": [
       "(97200, 4)"
      ]
     },
     "execution_count": 214,
     "metadata": {},
     "output_type": "execute_result"
    }
   ],
   "source": [
    "s.shape"
   ]
  },
  {
   "cell_type": "code",
   "execution_count": 224,
   "metadata": {},
   "outputs": [],
   "source": [
    "lista= []\n",
    "for i in range(0,s.shape[0]+768,768):\n",
    "    lista.append(s[i:i+768])"
   ]
  },
  {
   "cell_type": "code",
   "execution_count": 232,
   "metadata": {},
   "outputs": [
    {
     "data": {
      "text/plain": [
       "array([[ 29,  53,  11,  13],\n",
       "       [ 29,  53,  11,  13],\n",
       "       [131,  53,  11,  13],\n",
       "       ...,\n",
       "       [ 64,  69,   3,  88],\n",
       "       [ 64,  69,   3,  88],\n",
       "       [ 64,  69,   4,  88]], dtype=int64)"
      ]
     },
     "execution_count": 232,
     "metadata": {},
     "output_type": "execute_result"
    }
   ],
   "source": [
    "lista[56]"
   ]
  },
  {
   "cell_type": "code",
   "execution_count": 308,
   "metadata": {},
   "outputs": [
    {
     "data": {
      "text/plain": [
       "(128,)"
      ]
     },
     "execution_count": 308,
     "metadata": {},
     "output_type": "execute_result"
    }
   ],
   "source": [
    "data = np.array(lista)\n",
    "data.shape"
   ]
  },
  {
   "cell_type": "code",
   "execution_count": 309,
   "metadata": {},
   "outputs": [],
   "source": [
    "data = data[:-1]"
   ]
  },
  {
   "cell_type": "code",
   "execution_count": 310,
   "metadata": {},
   "outputs": [
    {
     "data": {
      "text/plain": [
       "(432, 4)"
      ]
     },
     "execution_count": 310,
     "metadata": {},
     "output_type": "execute_result"
    }
   ],
   "source": [
    "data[-1].shape"
   ]
  },
  {
   "cell_type": "code",
   "execution_count": 311,
   "metadata": {},
   "outputs": [],
   "source": [
    "#save data into npz file\n",
    "np.savez_compressed(\n",
    "    'data.npz', train=data)"
   ]
  },
  {
   "cell_type": "code",
   "execution_count": 312,
   "metadata": {},
   "outputs": [],
   "source": [
    "#load npoz file to check the integrity \n",
    "with np.load('data.npz', encoding='bytes',allow_pickle=True) as f:\n",
    "    win1 = f['train']"
   ]
  },
  {
   "cell_type": "code",
   "execution_count": 316,
   "metadata": {},
   "outputs": [
    {
     "data": {
      "text/plain": [
       "(768, 4)"
      ]
     },
     "execution_count": 316,
     "metadata": {},
     "output_type": "execute_result"
    }
   ],
   "source": [
    "win1[8].shape"
   ]
  },
  {
   "cell_type": "markdown",
   "metadata": {},
   "source": [
    "# End"
   ]
  }
 ],
 "metadata": {
  "kernelspec": {
   "display_name": "Python 3",
   "language": "python",
   "name": "python3"
  },
  "language_info": {
   "codemirror_mode": {
    "name": "ipython",
    "version": 3
   },
   "file_extension": ".py",
   "mimetype": "text/x-python",
   "name": "python",
   "nbconvert_exporter": "python",
   "pygments_lexer": "ipython3",
   "version": "3.8.5"
  }
 },
 "nbformat": 4,
 "nbformat_minor": 4
}
