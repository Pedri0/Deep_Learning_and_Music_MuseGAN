{
 "cells": [
  {
   "cell_type": "code",
   "execution_count": 4,
   "metadata": {},
   "outputs": [
    {
     "ename": "AttributeError",
     "evalue": "partially initialized module 'music21' has no attribute 'test' (most likely due to a circular import)",
     "output_type": "error",
     "traceback": [
      "\u001b[1;31m---------------------------------------------------------------------------\u001b[0m",
      "\u001b[1;31mAttributeError\u001b[0m                            Traceback (most recent call last)",
      "\u001b[1;32m<ipython-input-4-7b1bf4103903>\u001b[0m in \u001b[0;36m<module>\u001b[1;34m\u001b[0m\n\u001b[0;32m      1\u001b[0m \u001b[1;31m#importa music21\u001b[0m\u001b[1;33m\u001b[0m\u001b[1;33m\u001b[0m\u001b[1;33m\u001b[0m\u001b[0m\n\u001b[1;32m----> 2\u001b[1;33m \u001b[1;32mfrom\u001b[0m \u001b[0mmusic21\u001b[0m \u001b[1;32mimport\u001b[0m \u001b[1;33m*\u001b[0m\u001b[1;33m\u001b[0m\u001b[1;33m\u001b[0m\u001b[0m\n\u001b[0m\u001b[0;32m      3\u001b[0m \u001b[1;31m#setea el programa para ver las partituras, en este caso es MuseScore 3\u001b[0m\u001b[1;33m\u001b[0m\u001b[1;33m\u001b[0m\u001b[1;33m\u001b[0m\u001b[0m\n\u001b[0;32m      4\u001b[0m \u001b[0menvironment\u001b[0m\u001b[1;33m.\u001b[0m\u001b[0mset\u001b[0m\u001b[1;33m(\u001b[0m\u001b[1;34m'musescoreDirectPNGPath'\u001b[0m\u001b[1;33m,\u001b[0m \u001b[1;34m'C:\\\\Program Files\\\\MuseScore 3\\\\bin\\\\MuseScore3.exe'\u001b[0m\u001b[1;33m)\u001b[0m\u001b[1;33m\u001b[0m\u001b[1;33m\u001b[0m\u001b[0m\n\u001b[0;32m      5\u001b[0m \u001b[1;32mimport\u001b[0m \u001b[0mos\u001b[0m\u001b[1;33m\u001b[0m\u001b[1;33m\u001b[0m\u001b[0m\n",
      "\u001b[1;32mC:\\ProgramData\\Anaconda3\\lib\\site-packages\\music21\\__init__.py\u001b[0m in \u001b[0;36m<module>\u001b[1;34m\u001b[0m\n\u001b[0;32m    191\u001b[0m \u001b[1;31m# this brings all of our own __all__ names into the music21 package namespace\u001b[0m\u001b[1;33m\u001b[0m\u001b[1;33m\u001b[0m\u001b[1;33m\u001b[0m\u001b[0m\n\u001b[0;32m    192\u001b[0m \u001b[1;31m# pylint: disable=wildcard-import\u001b[0m\u001b[1;33m\u001b[0m\u001b[1;33m\u001b[0m\u001b[1;33m\u001b[0m\u001b[0m\n\u001b[1;32m--> 193\u001b[1;33m \u001b[1;32mfrom\u001b[0m \u001b[0mmusic21\u001b[0m \u001b[1;32mimport\u001b[0m \u001b[1;33m*\u001b[0m  \u001b[1;31m# @UnresolvedImport\u001b[0m\u001b[1;33m\u001b[0m\u001b[1;33m\u001b[0m\u001b[0m\n\u001b[0m\u001b[0;32m    194\u001b[0m \u001b[1;33m\u001b[0m\u001b[0m\n\u001b[0;32m    195\u001b[0m \u001b[1;31m# -----------------------------------------------------------------------------\u001b[0m\u001b[1;33m\u001b[0m\u001b[1;33m\u001b[0m\u001b[1;33m\u001b[0m\u001b[0m\n",
      "\u001b[1;31mAttributeError\u001b[0m: partially initialized module 'music21' has no attribute 'test' (most likely due to a circular import)"
     ]
    }
   ],
   "source": [
    "#importa music21\n",
    "from music21 import *\n",
    "#setea el programa para ver las partituras, en este caso es MuseScore 3\n",
    "environment.set('musescoreDirectPNGPath', 'C:\\\\Program Files\\\\MuseScore 3\\\\bin\\\\MuseScore3.exe')\n",
    "import os\n",
    "import pandas as pd"
   ]
  },
  {
   "cell_type": "markdown",
   "metadata": {},
   "source": [
    "# Guitar 1"
   ]
  },
  {
   "cell_type": "code",
   "execution_count": 13,
   "metadata": {},
   "outputs": [],
   "source": [
    "for entry in os.listdir():\n",
    "    if os.path.isdir(os.path.join('', entry)):\n",
    "        if entry == '.ipynb_checkpoints':\n",
    "            continue\n",
    "        #carga un archivo mid de guitarra\n",
    "        original_score = converter.parse(entry+'/Guitar1.mid').chordify()\n",
    "        #set the instrument to guitar\n",
    "        original_score.insert(0, instrument.ElectricGuitar())\n",
    "        notes = []\n",
    "        durations = []\n",
    "        for element in original_score.flat:\n",
    "            if isinstance(element, chord.Chord):\n",
    "                notes.append('.'.join(n.nameWithOctave for n in element.pitches))\n",
    "                durations.append(element.duration.quarterLength)\n",
    "            if isinstance(element, note.Note):\n",
    "                if element.isRest:\n",
    "                    notes.append(str(element.name))\n",
    "                    durations.append(element.duration.quarterLength)\n",
    "                else:\n",
    "                    notes.append(str(element.nameWithOctave))\n",
    "                    durations.append(element.duration.quarterLength)\n",
    "        df = pd.DataFrame(list(zip(durations,notes)),columns=['Duration','Pitch'])\n",
    "        df.to_csv(entry+'/Guitar1.csv', index = False)"
   ]
  },
  {
   "cell_type": "markdown",
   "metadata": {},
   "source": [
    "# Guitar 2"
   ]
  },
  {
   "cell_type": "code",
   "execution_count": 14,
   "metadata": {},
   "outputs": [],
   "source": [
    "for entry in os.listdir():\n",
    "    if os.path.isdir(os.path.join('', entry)):\n",
    "        if entry == '.ipynb_checkpoints':\n",
    "            continue\n",
    "        #carga un archivo mid de guitarra\n",
    "        original_score = converter.parse(entry+'/Guitar2.mid').chordify()\n",
    "        #set the instrument to guitar\n",
    "        original_score.insert(0, instrument.ElectricGuitar())\n",
    "        notes = []\n",
    "        durations = []\n",
    "        for element in original_score.flat:\n",
    "            if isinstance(element, chord.Chord):\n",
    "                notes.append('.'.join(n.nameWithOctave for n in element.pitches))\n",
    "                durations.append(element.duration.quarterLength)\n",
    "            if isinstance(element, note.Note):\n",
    "                if element.isRest:\n",
    "                    notes.append(str(element.name))\n",
    "                    durations.append(element.duration.quarterLength)\n",
    "                else:\n",
    "                    notes.append(str(element.nameWithOctave))\n",
    "                    durations.append(element.duration.quarterLength)\n",
    "        df = pd.DataFrame(list(zip(durations,notes)),columns=['Duration','Pitch'])\n",
    "        df.to_csv(entry+'/Guitar2.csv', index = False)"
   ]
  },
  {
   "cell_type": "markdown",
   "metadata": {},
   "source": [
    "# Bass"
   ]
  },
  {
   "cell_type": "code",
   "execution_count": 15,
   "metadata": {},
   "outputs": [],
   "source": [
    "for entry in os.listdir():\n",
    "    if os.path.isdir(os.path.join('', entry)):\n",
    "        if entry == '.ipynb_checkpoints':\n",
    "            continue\n",
    "        #carga un archivo mid de guitarra\n",
    "        original_score = converter.parse(entry+'/Bass.mid').chordify()\n",
    "        #set the instrument to guitar\n",
    "        original_score.insert(0, instrument.ElectricBass())\n",
    "        notes = []\n",
    "        durations = []\n",
    "        for element in original_score.flat:\n",
    "            if isinstance(element, chord.Chord):\n",
    "                notes.append('.'.join(n.nameWithOctave for n in element.pitches))\n",
    "                durations.append(element.duration.quarterLength)\n",
    "            if isinstance(element, note.Note):\n",
    "                if element.isRest:\n",
    "                    notes.append(str(element.name))\n",
    "                    durations.append(element.duration.quarterLength)\n",
    "                else:\n",
    "                    notes.append(str(element.nameWithOctave))\n",
    "                    durations.append(element.duration.quarterLength)\n",
    "        df = pd.DataFrame(list(zip(durations,notes)),columns=['Duration','Pitch'])\n",
    "        df.to_csv(entry+'/Bass.csv', index = False)"
   ]
  }
 ],
 "metadata": {
  "kernelspec": {
   "display_name": "Python 3",
   "language": "python",
   "name": "python3"
  },
  "language_info": {
   "codemirror_mode": {
    "name": "ipython",
    "version": 3
   },
   "file_extension": ".py",
   "mimetype": "text/x-python",
   "name": "python",
   "nbconvert_exporter": "python",
   "pygments_lexer": "ipython3",
   "version": "3.8.5"
  }
 },
 "nbformat": 4,
 "nbformat_minor": 4
}
